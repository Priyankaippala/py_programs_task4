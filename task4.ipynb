{
 "cells": [
  {
   "cell_type": "code",
   "execution_count": 1,
   "id": "cf5acdd6",
   "metadata": {},
   "outputs": [
    {
     "name": "stdout",
     "output_type": "stream",
     "text": [
      "HackerRank.com presents \"Pythonist 2\".\n",
      "hACKERrANK.COM PRESENTS \"pYTHONIST 2\".\n"
     ]
    }
   ],
   "source": [
    "def swap_case(s):\n",
    "    return s.swapcase()\n",
    "\n",
    "if __name__ == '__main__':\n",
    "    s = input()\n",
    "    result = swap_case(s)\n",
    "    print(result)\n",
    "    \n",
    "#HackerRank.com presents \"Pythonist 2\"."
   ]
  },
  {
   "cell_type": "code",
   "execution_count": 2,
   "id": "9b97a0b8",
   "metadata": {},
   "outputs": [
    {
     "name": "stdout",
     "output_type": "stream",
     "text": [
      "this is a string\n",
      "this-is-a-string\n"
     ]
    }
   ],
   "source": [
    "#string split and join\n",
    "def split_and_join(line):\n",
    "    # write your code here\n",
    "    return ('-'.join(line.split()))\n",
    "\n",
    "if __name__ == '__main__':\n",
    "    line = input()\n",
    "    result = split_and_join(line)\n",
    "    print(result)\n",
    "    \n",
    "#this is a string   "
   ]
  },
  {
   "cell_type": "code",
   "execution_count": 4,
   "id": "fa73e65a",
   "metadata": {},
   "outputs": [
    {
     "name": "stdout",
     "output_type": "stream",
     "text": [
      "Ross \n",
      "Tylor\n",
      "Hello Ross  Tylor! You just delved into python.\n"
     ]
    }
   ],
   "source": [
    "#what's your name\n",
    "def print_full_name(first, last):\n",
    "    # Write your code here\n",
    "    msg = 'Hello '+first+' '+last+'! You just delved into python.'\n",
    "    print(msg)\n",
    "    \n",
    "\n",
    "if __name__ == '__main__':\n",
    "    first_name = input()\n",
    "    last_name = input()\n",
    "    print_full_name(first_name, last_name)\n",
    "    \n",
    "# ross taylor"
   ]
  },
  {
   "cell_type": "code",
   "execution_count": 6,
   "id": "1f36fc71",
   "metadata": {},
   "outputs": [
    {
     "name": "stdout",
     "output_type": "stream",
     "text": [
      "abracadabra\n",
      "5 k\n",
      "abrackdabra\n"
     ]
    }
   ],
   "source": [
    "#mutations\n",
    "def mutate_string(string, position, character):\n",
    "    string = string[:position]+character+string[position+1:]\n",
    "    return string\n",
    "\n",
    "if __name__ == '__main__':\n",
    "    s = input()\n",
    "    i, c = input().split()\n",
    "    s_new = mutate_string(s, int(i), c)\n",
    "    print(s_new)\n",
    "    \n",
    "# abracadabra     s = 'abracadabra'\n",
    "# 5 k             position = 5, character = 'k'"
   ]
  },
  {
   "cell_type": "code",
   "execution_count": 7,
   "id": "e1d9b80a",
   "metadata": {},
   "outputs": [
    {
     "name": "stdout",
     "output_type": "stream",
     "text": [
      "ABCDCDC\n",
      "CDC\n",
      "2\n"
     ]
    }
   ],
   "source": [
    "#find a string\n",
    "def count_substring(string, sub_string):\n",
    "    l = len(sub_string)\n",
    "    length = len(string)\n",
    "    count = 0\n",
    "    for i in range(0,length):\n",
    "        if string[i:i+l]==sub_string:\n",
    "            count += 1\n",
    "    return count\n",
    "\n",
    "if __name__ == '__main__':\n",
    "    string = input().strip()\n",
    "    sub_string = input().strip()\n",
    "    \n",
    "    count = count_substring(string, sub_string)\n",
    "    print(count)\n",
    "\n",
    "#ABCDCDC\n",
    "# CDC"
   ]
  },
  {
   "cell_type": "code",
   "execution_count": 8,
   "id": "4c0030e1",
   "metadata": {},
   "outputs": [
    {
     "name": "stdout",
     "output_type": "stream",
     "text": [
      "qA2\n",
      "True\n",
      "True\n",
      "True\n",
      "True\n",
      "True\n"
     ]
    }
   ],
   "source": [
    "#srting valiadtors\n",
    "if __name__ == '__main__':\n",
    "    s = input()\n",
    "    li = [False,False,False,False,False]\n",
    "    for i in s:\n",
    "        if i.isalnum():\n",
    "            li[0]=True\n",
    "        if i.isalpha():\n",
    "            li[1]=True\n",
    "        if i.isdigit():\n",
    "            li[2]=True\n",
    "        if i.islower():\n",
    "            li[3]=True\n",
    "        if i.isupper():\n",
    "            li[4]=True\n",
    "    for i in li:\n",
    "        print(i)\n",
    "           \n",
    "#qA2"
   ]
  },
  {
   "cell_type": "code",
   "execution_count": 9,
   "id": "3bb5c739",
   "metadata": {},
   "outputs": [
    {
     "name": "stdout",
     "output_type": "stream",
     "text": [
      "5\n",
      "    H    \n",
      "   HHH   \n",
      "  HHHHH  \n",
      " HHHHHHH \n",
      "HHHHHHHHH\n",
      "  HHHHH               HHHHH             \n",
      "  HHHHH               HHHHH             \n",
      "  HHHHH               HHHHH             \n",
      "  HHHHH               HHHHH             \n",
      "  HHHHH               HHHHH             \n",
      "  HHHHH               HHHHH             \n",
      "  HHHHHHHHHHHHHHHHHHHHHHHHH   \n",
      "  HHHHHHHHHHHHHHHHHHHHHHHHH   \n",
      "  HHHHHHHHHHHHHHHHHHHHHHHHH   \n",
      "  HHHHH               HHHHH             \n",
      "  HHHHH               HHHHH             \n",
      "  HHHHH               HHHHH             \n",
      "  HHHHH               HHHHH             \n",
      "  HHHHH               HHHHH             \n",
      "  HHHHH               HHHHH             \n",
      "                    HHHHHHHHH \n",
      "                     HHHHHHH  \n",
      "                      HHHHH   \n",
      "                       HHH    \n",
      "                        H     \n"
     ]
    }
   ],
   "source": [
    "#text alignment\n",
    "\n",
    "t = int(input())\n",
    "for i in range(t):\n",
    "    print(('H'*i).rjust(t-1)+'H'+('H'*i).ljust(t-1))\n",
    "    \n",
    "for i in range(t+1):\n",
    "    print(('H'*t).center(t*2)+('H'*t).center(t*6))\n",
    "\n",
    "for i in range((t+1)//2):\n",
    "    print(('H'*t*5).center(t*6))    \n",
    "\n",
    "for i in range(t+1):\n",
    "    print(('H'*t).center(t*2)+('H'*t).center(t*6))    \n",
    "\n",
    "for i in range(t):\n",
    "    print((('H'*(t-i-1)).rjust(t)+'H'+('H'*(t-i-1)).ljust(t)).rjust(t*6))\n",
    "\n",
    "    \n",
    "#5"
   ]
  },
  {
   "cell_type": "code",
   "execution_count": 10,
   "id": "a1831dd7",
   "metadata": {},
   "outputs": [
    {
     "name": "stdout",
     "output_type": "stream",
     "text": [
      "ABCDEFGHIJKLIMNOQRSTUVWXYZ\n",
      "5\n",
      "ABCDE\n",
      "FGHIJ\n",
      "KLIMN\n",
      "OQRST\n",
      "UVWXY\n",
      "Z\n"
     ]
    }
   ],
   "source": [
    "#text wrap\n",
    "import textwrap\n",
    "\n",
    "def wrap(string, max_width):\n",
    "    s = textwrap.fill(string,max_width)\n",
    "    return s\n",
    "\n",
    "if __name__ == '__main__':\n",
    "    string, max_width = input(), int(input())\n",
    "    result = wrap(string, max_width)\n",
    "    print(result)\n",
    "\n",
    "#ABCDEFGHIJKLIMNOQRSTUVWXYZ\n",
    "#5"
   ]
  },
  {
   "cell_type": "code",
   "execution_count": 12,
   "id": "2afcafa4",
   "metadata": {},
   "outputs": [
    {
     "name": "stdout",
     "output_type": "stream",
     "text": [
      "7 21\n",
      "---------.|.---------\n",
      "------.|..|..|.------\n",
      "---.|..|..|..|..|.---\n",
      "-------WELCOME-------\n",
      "---.|..|..|..|..|.---\n",
      "------.|..|..|.------\n",
      "---------.|.---------\n"
     ]
    }
   ],
   "source": [
    "#designer door mat\n",
    "import math\n",
    "n,m = map(int,input().split())\n",
    "for i in range(0,math.floor(n/2)):\n",
    "     s='.|.'*i\n",
    "     print (s.rjust(math.floor((m-2)/2),'-')+'.|.'+(s).ljust(math.floor((m-2)/2),'-'))\n",
    "print('WELCOME'.center(m,'-'))\n",
    "while(i>=0):\n",
    "     s='.|.'*i\n",
    "     print (s.rjust(math.floor((m-2)/2),'-')+'.|.'+(s).ljust(math.floor((m-2)/2),'-'))\n",
    "     i-=1\n",
    "\n",
    "#7*21"
   ]
  },
  {
   "cell_type": "code",
   "execution_count": 14,
   "id": "1fb62b7c",
   "metadata": {},
   "outputs": [
    {
     "name": "stdout",
     "output_type": "stream",
     "text": [
      "AABCAAADA\n",
      "3\n",
      "AB\n",
      "CA\n",
      "AD\n"
     ]
    }
   ],
   "source": [
    "#merge the tools\n",
    "def merge_the_tools(string, k):\n",
    "    # your code goes here\n",
    "    length = len(string)\n",
    "    s = []\n",
    "    for i in range(0,len(string),k):\n",
    "        s.append(string[i:i+k])\n",
    "    for i in s:\n",
    "        temp = ''\n",
    "        for j in range(0,len(i)):\n",
    "            if i[j] not in temp:\n",
    "                temp += i[j]\n",
    "        print(temp)\n",
    "             \n",
    "if __name__ == '__main__':\n",
    "    string, k = input(), int(input())\n",
    "    merge_the_tools(string, k)\n",
    "\n",
    "#AABCAAADA   s = 'AABCAAADA'\n",
    "# 3           k = 3"
   ]
  }
 ],
 "metadata": {
  "kernelspec": {
   "display_name": "Python 3 (ipykernel)",
   "language": "python",
   "name": "python3"
  },
  "language_info": {
   "codemirror_mode": {
    "name": "ipython",
    "version": 3
   },
   "file_extension": ".py",
   "mimetype": "text/x-python",
   "name": "python",
   "nbconvert_exporter": "python",
   "pygments_lexer": "ipython3",
   "version": "3.9.12"
  }
 },
 "nbformat": 4,
 "nbformat_minor": 5
}
